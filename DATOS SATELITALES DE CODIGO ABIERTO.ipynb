{
 "cells": [
  {
   "cell_type": "markdown",
   "metadata": {},
   "source": [
    "# CÓMO USAR DATOS SATELITALES DE CÓDIGO ABIERTO PARA EL MONITOREO DE INCENDIOS \n",
    "\n",
    "# Sentinel Hub Playground/EO Browser\n",
    "\n"
   ]
  },
  {
   "cell_type": "markdown",
   "metadata": {},
   "source": [
    "Sin lugar a duda, estamos inundados por una enorme ola de información geoespacial, en donde cada vez es más habitual encontrar datos satelitales. Desde la aparición de datos de alta resolución proporcionados por empresas como DigitalGlobe y Planet Labs, el suministro de historias satelitales se ha multiplicado. Pero los datos de código abierto, una fuente válida y oportuna de historias, sin embargo, a pesar de una resolución más baja siguen sin aprovecharse. Con una montaña de datos intactos, muchos temen perderse, una preocupación válida. \n",
    "Intentaremos abordar algunos de los ejemplos, con algunos conceptos básicos para acceder, comprender y manejar datos satelitales de código abierto. Los comentarios técnicos recientes sobre la ejecución de ejercicios de teledetección para aprovechar las plataformas de datos satelitales de código abierto. \n",
    "Este tutorial intenta guiar a través de algunos ejemplos básicos, desde un nivel técnico principiante hasta uno más avanzado.\n"
   ]
  },
  {
   "cell_type": "markdown",
   "metadata": {},
   "source": [
    "# ¿Qué necesitas?"
   ]
  },
  {
   "cell_type": "markdown",
   "metadata": {},
   "source": [
    "* Python 3.6 \n",
    "* Un lector Tif adecuado (si desea descargar archivos ráster) \n",
    "* Cuaderno Jupyter y varios paquetes de Python \n",
    "* Una cuenta gratuita para Sentinel Hub (encuentre una descripción en el tutorial de Python)"
   ]
  },
  {
   "cell_type": "markdown",
   "metadata": {},
   "source": [
    "Si eres un tecnólogo apasionado, la idea de usar una aplicación de navegador puede desanimarte un poco. Pero escúchame. Para explorar e investigar, el **navegador EO** es una opción decente (si desea retroceder aún más, **\"Sentinel Playground\"** presenta menos satélites pero ofrece una forma un poco más fácil de explorar). \n",
    "El predecesor y otras plataformas satelitales de código abierto pueden ofrecer opciones limitadas en el uso de `python` en el flujo de trabajo. **Sentinel Hub** ejecuta algunas opciones útiles a este respecto. Además, no es necesario descargar los mosaicos de trama completos para hacer algo interesante (posiblemente, es raro que las investigaciones requieran todos los datos de mosaicos al mismo tiempo). En cambio, permite hacer zoom en áreas específicas."
   ]
  },
  {
   "cell_type": "markdown",
   "metadata": {},
   "source": [
    "## Aquí hay una lista de datos que proporciona el navegador EO y una justificación para usarlos:"
   ]
  },
  {
   "cell_type": "markdown",
   "metadata": {},
   "source": [
    "| <img width=10>Nombre del Satelite</img><img width=150> </img> | Descripcion | \n",
    "| ----------- | ------------------------------------------------------------------------------------------------------- |\n",
    "| Sentinel-1 | Maritime and land monitoring emergency response climate change |\n",
    "| Sentinel-2 | Land-cover maps land-change detection maps vegetation monitoring monitoring of burnt areas |\n",
    "| Sentinel-3 | Surface topography observations ocean and land surface colour observation and monitoring|  \n",
    "|Sentinel-3  |OLCI instrument ensures the continuity of Envisat Meris |\n",
    " |Sentinel-5P |Monitoring the concentration of carbon monoxide (CO) nitrogen dioxide (NO2) and ozone (O3) in the air. Monitoring the UV aerosol index (AER_AI) and various geophysical parameters of clouds (CLOUD)\n",
    " |ESAs archive of Landsat 5/7 and 8 |vegetation monitoring land use land cover maps change monitoring global coverage of Landsat 8 - Envisat Meris and old data |\n",
    " |Proba-V |The observation of land cover vegetation growth climate impact assessment water resource management agricultural monitoring and food security estimates inland water resource monitoring and tracking the steady spread of deserts and deforestation. |\n",
    " |MODIS |Monitoring of land clouds ocean colour at a global scale (by ESA) |\n",
    " |GIBS |Global image browser service with over 600 satellites made available by NASA |"
   ]
  },
  {
   "cell_type": "markdown",
   "metadata": {},
   "source": [
    "# Seguimiento de incendios forestales:"
   ]
  },
  {
   "cell_type": "markdown",
   "metadata": {},
   "source": [
    "Detección e informes de la repentina proliferación y destrucción de incendios forestales que se dispararon el año pasado cuando se produjeron llamas récord en todo el estado de California en los EE. UU. Puede que no sea la última vez. Según los expertos, tales incendios pueden volver a surgir en un futuro cercano. Las fuentes de acceso disponibles de forma gratuita constituyen datos de Landsat 8, amablemente proporcionados con la ayuda del Servicio Geológico de los EE. UU. \n",
    "\n",
    "Sentinel-2, que ofrece imágenes de mayor resolución que sus colegas de código abierto en la parte visible e infrarroja del espectro, está a la altura de la tarea de monitorear la vegetación, el suelo y la cubierta de agua, las vías navegables interiores y las áreas costeras."
   ]
  },
  {
   "cell_type": "markdown",
   "metadata": {},
   "source": [
    "## Procedimiento:"
   ]
  },
  {
   "cell_type": "markdown",
   "metadata": {},
   "source": [
    "* Vaya al navegador EO: regístrese e inicie sesión (es gratis) \n",
    "* Seleccione Sentinel-2 Reduzca la recopilación de datos limitando la cobertura de la nube al 30%. \n",
    "* Detecte incendios forestales en el estado estadounidense de California, que culminó entre julio y agosto de 2018 (son tan pronunciados en todo el estado que no debería tener problemas para detectar nubes de nubes)\n",
    "\n",
    "Algunos Incedios:\n",
    "\n",
    "<i>Natchez Fire (July 20, 2018): 41.956°N 123.551°W\n",
    "    \n",
    "Carr Fire (July 28, 2018): 40.6543°N 122.6236°W\n",
    "    \n",
    "Mendocino Complex Fire (July 29, 2018): 39.243283°N 123.103367°W\n",
    "    \n",
    "Ferguson Fire (July 14, 2018): 37.652°N 119.881°W</i>"
   ]
  },
  {
   "cell_type": "markdown",
   "metadata": {},
   "source": [
    "A continuación, queremos representar una combinación de bandas específica para ver más claramente dónde está ocurriendo la acción en el terreno:"
   ]
  },
  {
   "cell_type": "markdown",
   "metadata": {},
   "source": [
    "**copie el \"[script de Wildfire\"]()**"
   ]
  },
  {
   "cell_type": "code",
   "execution_count": null,
   "metadata": {},
   "outputs": [],
   "source": [
    "// Visualizing (wild)fires in Sentinel-2 imagery\n",
    "// For use in Sinergise EO Browser (http://apps.sentinel-hub.com/eo-browser)\n",
    "// https://pierre-markuse.net/2018/04/30/visualizing-wildfires-burn-scars-sentinel-hub-eo-browser/\n",
    "// Pierre Markuse (@pierre_markuse)\n",
    "// Wildfire and burn scar visualization in Sentinel-2 images V2.0.0\n",
    "// Twitter: Pierre Markuse (@pierre_markuse)\n",
    "// CC BY 4.0 International - https://creativecommons.org/licenses/by/4.0/\n",
    "\n",
    "function a(a, b) {return a + b};\n",
    "function stretch(val, min, max) {return (val - min) / (max - min);}\n",
    "function satEnh(rgbArr) {\n",
    "    var avg = rgbArr.reduce((a, b) => a + b, 0) / rgbArr.length;\n",
    "    return rgbArr.map(a => avg * (1 - saturation) + a * saturation); }\n",
    "function highlightBurnscar(val, oLow, oHigh, deSat, darken) {\n",
    "    if ((B12 + B11 > 0.05) && (val > 0)) {\n",
    "        if (((B8A - B12) / (B8A + B12)) > oLow) {\n",
    "            saturation = saturation - deSat;\n",
    "            stretchMax = stretchMax + darken;\n",
    "        } else {\n",
    "            if (((B8A - B12) / (B8A + B12)) <= oHigh) {\n",
    "                noFire[0] = noFire[0] + 0.2 * val;\n",
    "                noFire[1] = noFire[1] + 0.05 * val;\n",
    "            } else {\n",
    "                noFire[0] = noFire[0] + 0.15 * val;\n",
    "                noFire[1] = noFire[1] + 0.15 * val;\n",
    "            }\n",
    "        }\n",
    "    }\n",
    "}\n",
    "function indexMap(ind, lVal, mVal, hVal, cont, dir, pal) {\n",
    "  var col1=GREEN;var col2=YELLOW;var col3=RED;  \n",
    "  if (pal == 1) {col1=CBL;col2=CBM;col3=CBH;} \n",
    "  if (pal == 2) {col1=OWNL;col2=OWNM;col3=OWNH;}         \n",
    "    var lValCol = col1;\n",
    "    var mValCol = col2;var hValCol = col3;\n",
    "    if (dir == 1){\n",
    "    \tlValCol = col3;hValCol = col1;\n",
    "    }\n",
    "    if (cont == 0) {\n",
    "        if (ind <= lVal) return lValCol; if ((ind > lVal) && (ind < hVal)) return mValCol; if (ind >= hVal) return hValCol;\n",
    "      } else {\n",
    "        return colorBlend(ind, [lVal, mVal,hVal], [lValCol,mValCol,hValCol]);\n",
    "    }\n",
    "}\n",
    "function blend(bArr1, bArr2, opa1, opa2) {\n",
    "    return bArr1.map(function(num, index) {\n",
    "        return (num / 100 * opa1 + bArr2[index] / 100 * opa2);\n",
    "    });\n",
    "}\n",
    "function applyEnh(bArr) {\n",
    "    highlightBurnscar(burnscarHighlight, burnscarThresholdLow, burnscarThresholdHigh, burnscarDesaturateBackdrop, burnscarDarkenBackdrop);\n",
    "    return satEnh([stretch(bArr[0], stretchMin, stretchMax), stretch(bArr[1], stretchMin, stretchMax), stretch(bArr[2], stretchMin, stretchMax)]);\n",
    "}\n",
    "var BLACK = [0.0, 0.0, 0.0];\n",
    "var RED = [0.9, 0.1, 0.1];\n",
    "var YELLOW = [0.9, 0.9, 0.1];\n",
    "var GREEN = [0.0, 0.6, 0.0];\n",
    "var CBL  = [0/255, 80/255, 0/255];\n",
    "var CBM  = [120/255, 120/255, 230/255];\n",
    "var CBH  = [70/255, 195/255, 255/255];\n",
    "var OWNL = [0.0, 0.0, 0.0];\n",
    "var OWNM = [0.0, 0.0, 0.0];\n",
    "var OWNH = [0.0, 0.0, 0.0];\n",
    "// Visualization style of the different fire zones\n",
    "var Fire1OVL = [stretch((2.1 * B04 + 0.5 * B12), 0.01, 0.99) + 1.1, stretch((2.2 * B03 + 0.5 * B08), 0.01, 0.99), stretch(2.1 * B02, 0.01, 0.99)];\n",
    "var Fire2OVL = [stretch((2.1 * B04 + 0.5 * B12), 0.01, 0.99) + 1.1, stretch((2.2 * B03 + 0.5 * B08), 0.01, 0.99) + 0.25, stretch(2.1 * B02, 0.01, 0.99)];\n",
    "var Fire3OVL = [stretch((2.1 * B04 + 0.5 * B12), 0.01, 0.99) + 1.1, stretch((2.2 * B03 + 0.5 * B08), 0.01, 0.99) + 0.5, stretch(2.1 * B02, 0.01, 0.99)];\n",
    "// Band combinations (To get quicker processing you should comment out all those you are not using in the Settings further down)\n",
    "var NaturalColors = [2.9 * B04, 3.1 * B03, 3.0 * B02];\n",
    "// var EnhancedNaturalColors = [2.8 * B04 + 0.1 * B05, 2.8 * B03 + 0.15 * B08, 2.8 * B02];\n",
    "// var NaturalNIRSWIRMix = [2.1 * B04 + 0.5 * B12, 2.2 * B03 + 0.5 * B08, 3.0 * B02];\n",
    "// var NIRSWIRColors1 = [2.6 * B12, 1.9 * B08, 2.7 * B02];\n",
    "var NIRSWIRColors2 = [2.4 * B12, 1.7 * B8A, 2.2 * B05];\n",
    "// var NIRSWIRColors3 = [0.5 * (B12 + B11) / 4 / B07, 0.8 * B8A, 1 * B07];\n",
    "// var NIRSWIRColors4 = [2.0 * B12, 1.1 * B11, 1.6 * B08];\n",
    "// var FalseColor = [B08 * 2, B04 * 2, B03 * 2];\n",
    "// var NatFalseColor = [B12 * 2.6, B11 * 2, B04 * 2.7];\n",
    "// var Vegetation = [B11 * 2.4, B8A * 2, B04 * 2.9];\n",
    "// var PanBand = [B08, B08, B08];\n",
    "// var NBR8A12 = indexMap((B8A - B12) / (B8A + B12), -0.8, -0.4, 0.0, 1, 1, 1);\n",
    "// var NDVI = indexMap((B08 - B04) / (B08 + B04), -0.4, -0.2, 0.0, 1, 1, 1);\n",
    "// Settings\n",
    "// Fire (hot spot) visualization\n",
    "var fire1 = Fire1OVL;\n",
    "var fire2 = Fire2OVL;\n",
    "var fire3 = Fire3OVL;\n",
    "// Used band combinations and mixing\n",
    "var layer1 = NIRSWIRColors2;\n",
    "var layer2 = NaturalColors;\n",
    "var layer1Amount = 0;\n",
    "var layer2Amount = 100;\n",
    "// Influence contrast and saturation\n",
    "var stretchMin = 0.00;\n",
    "var stretchMax = 1.00;\n",
    "var saturation = 1.00;\n",
    "// Fire sensitivity (Default = 1.00), higher values increase fire (hot spot) detection and false positives\n",
    "var fireSensitivity = 1.00;\n",
    "// Burn scar visualization\n",
    "var burnscarHighlight = 0.00;\n",
    "var burnscarThresholdLow = -0.25;\n",
    "var burnscarThresholdHigh = -0.38;\n",
    "var burnscarDesaturateBackdrop = 0.25;\n",
    "var burnscarDarkenBackdrop = 0.25;\n",
    "// Manually influence RGB output\n",
    "var manualCorrection = [0.00, 0.00, 0.00];\n",
    "// Image generation and output\n",
    "noFire = blend(layer1, layer2, layer1Amount, layer2Amount);\n",
    "finalRGB = applyEnh(noFire).map(function(num, index) {\n",
    "    return num + manualCorrection[index];});\n",
    "return (a(B12, B11) > (1.0 / fireSensitivity)) ?\n",
    "    (a(B12, B11) > (2.0 / fireSensitivity)) ? fire3 :\n",
    "    (a(B12, B11) > (1.5 / fireSensitivity)) ? fire2 : fire1 :\n",
    "   finalRGB;"
   ]
  },
  {
   "cell_type": "markdown",
   "metadata": {},
   "source": [
    "El guión Wildfire fue amablemente proporcionado por Pierre Markuse. Insértelo en la sección \"Personalizado\" (debajo de la pestaña Visualización) donde se muestra el \"</>\" (junto al botón de la mano)"
   ]
  },
  {
   "cell_type": "markdown",
   "metadata": {},
   "source": [
    "<div style='text-align:center;'>\n",
    "<figure><img src='./img/1_CZEi2W0MRQ1T1EF1gttH4Q.gif' width='50%'/>\n",
    "    <figcaption><i>Localización de incendios forestales en California (agosto de 2018)</i></figcaption>\n",
    "</figure>\n",
    "</div>"
   ]
  },
  {
   "cell_type": "markdown",
   "metadata": {},
   "source": [
    "Otro Ángulo: ¿Qué tan exitosos son los bomberos para contener / aislar incendios?"
   ]
  },
  {
   "cell_type": "markdown",
   "metadata": {},
   "source": [
    "<div style='text-align:center;'>\n",
    "<figure><img src='./img/1_7KOIEFK7CFwy8QRX2A6opA.jpeg' width='50%'/>\n",
    "    <figcaption><i>Ejemplo de Pierre Markuse: Retardante de fuego causado por aviones de extinción de incendios https://flic.kr/p/Wt8Vzo</i></figcaption>\n",
    "</figure>\n",
    "</div>"
   ]
  },
  {
   "cell_type": "markdown",
   "metadata": {},
   "source": [
    "Si ha encontrado con éxito un incendio forestal en el rango de tiempo especificado, debe detectar manchas de color amarillo-rojo. **Importante: no interprete esto como llamas.** A pesar de mostrarlo, debe decirle a su audiencia que lo que se puede ver no son incendios reales sino una mera superposición de **IR**, que, hasta cierto punto, se alinea con los incendios activos y los puntos calientes."
   ]
  },
  {
   "cell_type": "markdown",
   "metadata": {},
   "source": [
    "# MSI - índicede estrés por humedad"
   ]
  },
  {
   "cell_type": "markdown",
   "metadata": {},
   "source": [
    "Se puede usar otra combinación de bandas para ilustrar áreas potenciales en riesgo de incendios forestales. La sequedad de la vegetación es uno de esos indicadores. El índice de estrés por humedad, o MSI, puede revelar áreas tan secas y ayudar en algo llamado \"análisis de condiciones de peligro de incendio\".\n",
    "\n",
    "El índice se invierte en relación con otros índices de vegetación de agua. Cuanto mayor sea el valor, mayor será el nivel de estrés hídrico (y menor será el contenido de agua). Pruébelo y siga el mismo procedimiento con un guión de banda diferente y vea lo que puede recuperar."
   ]
  },
  {
   "cell_type": "code",
   "execution_count": null,
   "metadata": {},
   "outputs": [],
   "source": [
    "// Simple Ratio 1600/820 Moisture Stress Index (abbrv. MSI)\n",
    "// General formula: 1600nm / 820nm\n",
    "// URL https://www.indexdatabase.de/db/si-single.php?sensor_id=96&rsindex_id=48\n",
    "\n",
    "let index = B11 / B08;\n",
    "return[index]"
   ]
  },
  {
   "cell_type": "markdown",
   "metadata": {},
   "source": [
    "# MSI script:"
   ]
  },
  {
   "cell_type": "code",
   "execution_count": null,
   "metadata": {},
   "outputs": [],
   "source": [
    "//\n",
    "// Simple Ratio 1600/820 Moisture Stress Index (abbrv. MSI)\n",
    "//\n",
    "// General formula: 1600nm / 820nm\n",
    "//\n",
    "// URL https://www.indexdatabase.de/db/si-single.php?sensor_id=96&rsindex_id=48\n",
    "//\n",
    "\n",
    "let index = B11 / B08;\n",
    "let min = 0.058;\n",
    "let max = 17.145;\n",
    "\n",
    "// colorBlend will return a color when the index is between min and max and white when it is less than min.\n",
    "// To see black when it is more than max, uncomment the last line of colorBlend.\n",
    "// The min/max values were computed automatically and may be poorly specified, feel free to change them to tweak the displayed range.\n",
    "\n",
    "let underflow_color = [1, 1, 1];\n",
    "let low_color = [208/255, 88/255, 126/255];\n",
    "let high_color = [241/255, 234/255, 200/255];\n",
    "let overflow_color = [0, 0, 0];\n",
    "\n",
    "return colorBlend(index, [min, min, max],\n",
    "[\n",
    "\tunderflow_color,\n",
    "\tlow_color,\n",
    "\thigh_color,\n",
    "\t//overflow_color // uncomment to see overflows\n",
    "]);"
   ]
  },
  {
   "cell_type": "markdown",
   "metadata": {},
   "source": [
    "# Ahora trabajemos con Python:"
   ]
  },
  {
   "cell_type": "markdown",
   "metadata": {},
   "source": [
    "Para usar los servicios de Sentinel Hub, necesita una cuenta de Sentinel Hub (regístrese gratis aquí https://www.sentinel-hub.com/, si aún no lo ha hecho)."
   ]
  },
  {
   "cell_type": "markdown",
   "metadata": {},
   "source": [
    "Inicie sesión en Sentinel Hub Configurator. Ya existirá una configuración con una ID de instancia (código alfanumérico de longitud 36). Para este tutorial, se recomienda que cree una nueva configuración (a través de \"Agregar nueva configuración\") y establezca la configuración para que se base en la \"plantilla de scripts de Python\"."
   ]
  },
  {
   "cell_type": "markdown",
   "metadata": {},
   "source": [
    "<div style='text-align:center;'>\n",
    "<figure><img src='./img2/1_nn3B4IuhlKZiAXpNHUMWnw.png' width='50%'/>\n",
    "    <figcaption><i>Ejemplo de login\n",
    "</figure>\n",
    "</div>"
   ]
  },
  {
   "cell_type": "markdown",
   "metadata": {},
   "source": [
    "Escriba el ID de instancia de su configuración y péguelo en la declaración de variable INSTANCE_ID:"
   ]
  },
  {
   "cell_type": "code",
   "execution_count": null,
   "metadata": {},
   "outputs": [],
   "source": [
    "INSTANCE_ID = 'your ID from sentinel hub'  # In case you put instance ID into configuration file you can leave this unchanged\n",
    "\n",
    "%reload_ext autoreload\n",
    "%autoreload 2\n",
    "%matplotlib inline\n",
    "import datetime\n",
    "import numpy as np\n",
    "\n",
    "import matplotlib.pyplot as plt\n",
    "from sentinelhub import WmsRequest, WcsRequest, MimeType, CRS, BBox\n",
    "def plot_image(image, factor=1):\n",
    "    \"\"\"\n",
    "    Utility function for plotting RGB images.\n",
    "    \"\"\"\n",
    "    fig = plt.subplots(nrows=1, ncols=1, figsize=(15, 7))\n",
    "\n",
    "    if np.issubdtype(image.dtype, np.floating):\n",
    "        plt.imshow(np.minimum(image * factor, 1))\n",
    "    else:\n",
    "        plt.imshow(image)\n",
    "\n",
    "from sentinelhub import CustomUrlParam\n",
    "\n",
    "\n",
    "# Tip: if you want to insert the coordinates from google, you will need to set\n",
    "# the first two coordinates for the upper left corner (-122.41, 39.31)\n",
    "# and second two (-122.75, 39.55) will refer to lower right corner of the box\n",
    "# Lastly: lat long from Google maps needs to be switched around (e.g. for lower corner \n",
    "# google maps will give you '39.55, -122.75'; you need to switch out around to read -122.75, 39.55)\n",
    "\n",
    "betsiboka_coords_wgs84 = [-122.41, 39.31, -122.75, 39.55]\n",
    "betsiboka_bbox2 = BBox(bbox=betsiboka_coords_wgs84, crs=CRS.WGS84)\n",
    "\n",
    "\n",
    "my_url = 'https://raw.githubusercontent.com/sentinel-hub/custom-scripts/master/sentinel-2/markuse_fire/script.js'\n",
    "\n",
    "evalscripturl_wms_request = WmsRequest(layer='TRUE-COLOR-S2-L1C', # Layer parameter can be any existing layer\n",
    "                                       bbox=betsiboka_bbox2,\n",
    "                                       time='2018-08-28',\n",
    "                                       width=512,\n",
    "                                       instance_id=INSTANCE_ID,\n",
    "                                       custom_url_params={CustomUrlParam.EVALSCRIPTURL: my_url})\n",
    "\n",
    "evalscripturl_wms_data = evalscripturl_wms_request.get_data()\n",
    "plot_image(evalscripturl_wms_data[0])"
   ]
  },
  {
   "cell_type": "markdown",
   "metadata": {},
   "source": [
    "Todas las solicitudes requieren que se proporcione un cuadro delimitador como una instancia de sentinelhub.geometry.BBox con el correspondiente Sistema de referencia de coordenadas (sentinelhub.geometry.CRS). Usaremos WGS84 y podemos usar el sistema de referencia de coordenadas WGS84 predefinido de sentinelhub.geometry.CRS."
   ]
  },
  {
   "cell_type": "markdown",
   "metadata": {},
   "source": [
    "Ahora simplemente proporcionamos una dirección URL de un JS evalscript ([hay disponibles otros scripts inteligentes en esta página dedicada](https://github.com/Alexanderariza/CUSTOM-SCRIPTS)). \n",
    "\n",
    "Seleccionemos nuevamente el script de disparo y proporcionemos su URL como valor del parámetro CustomUrlParam.EVALSCRIPTURL."
   ]
  },
  {
   "cell_type": "markdown",
   "metadata": {},
   "source": [
    "<div style='text-align:center;'>\n",
    "<figure><img src='./img2/1_oIP8DmO3wle5tBOqbC42Ww.png' width='50%'/>\n",
    "    <figcaption><i>Salida de Python: imagen de Sentinel-2 descargada con el evalscript JS de incendios forestales proporcionado\n",
    "</figure>\n",
    "</div>"
   ]
  },
  {
   "cell_type": "markdown",
   "metadata": {},
   "source": [
    "# NBR - Índice Normalizado de Área Quemada"
   ]
  },
  {
   "cell_type": "markdown",
   "metadata": {},
   "source": [
    "Otra secuencia de comandos personalizada, para detectar específicamente el tizón de los incendios es NBR, abreviatura de relación de combustión normalizada (enlace a la secuencia de comandos aquí). Si informa sobre el estado post mortem de un gran incendio, esto podría ayudarlo en su análisis y cobertura."
   ]
  },
  {
   "cell_type": "markdown",
   "metadata": {},
   "source": [
    "<div style='text-align:center;'>\n",
    "<figure><img src='./img2/1_ZwSM70aDRmUXiXtirhiXTw.png' width='50%'/>\n",
    "    <figcaption><i> Explicación adicional de NBR [aquí](http://un-spider.org/node/10959)\n",
    "</figure>\n",
    "</div>\n",
    "        "
   ]
  },
  {
   "cell_type": "markdown",
   "metadata": {},
   "source": [
    "<div style='text-align:center;'>\n",
    "<figure><img src='./img2/1_psJ0NCqqrOZrYTRJ6QGqbA.png' width='50%'/>\n",
    "    <figcaption><i>Salida de Python: imagen de Sentinel-2 descargada con el evalscript NBR JS proporcionado\n",
    "</figure>\n",
    "</div>"
   ]
  },
  {
   "cell_type": "code",
   "execution_count": null,
   "metadata": {},
   "outputs": [],
   "source": [
    "1_psJ0NCqqrOZrYTRJ6QGqbA"
   ]
  }
 ],
 "metadata": {
  "kernelspec": {
   "display_name": "Python 3",
   "language": "python",
   "name": "python3"
  },
  "language_info": {
   "codemirror_mode": {
    "name": "ipython",
    "version": 3
   },
   "file_extension": ".py",
   "mimetype": "text/x-python",
   "name": "python",
   "nbconvert_exporter": "python",
   "pygments_lexer": "ipython3",
   "version": "3.7.6"
  }
 },
 "nbformat": 4,
 "nbformat_minor": 4
}
